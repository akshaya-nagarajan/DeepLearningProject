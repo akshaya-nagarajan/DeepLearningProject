{
  "nbformat": 4,
  "nbformat_minor": 0,
  "metadata": {
    "colab": {
      "name": "Yoga_pose_classification_with_CNN.ipynb",
      "provenance": [],
      "collapsed_sections": []
    },
    "kernelspec": {
      "name": "python3",
      "display_name": "Python 3"
    },
    "accelerator": "TPU"
  },
  "cells": [
    {
      "cell_type": "code",
      "metadata": {
        "id": "8n1t54mOL41j",
        "colab_type": "code",
        "outputId": "97ecd072-3081-4cc0-c6b9-e47ea6a7ee1f",
        "colab": {
          "base_uri": "https://localhost:8080/",
          "height": 34
        }
      },
      "source": [
        "from google.colab import drive\n",
        "drive.mount('/content/gdrive/', force_remount=True)\n",
        "root_dir = \"/content/gdrive/My Drive/Deep Learning project/\"\n",
        "image_dir = root_dir + 'Images/'"
      ],
      "execution_count": 0,
      "outputs": [
        {
          "output_type": "stream",
          "text": [
            "Mounted at /content/gdrive/\n"
          ],
          "name": "stdout"
        }
      ]
    },
    {
      "cell_type": "code",
      "metadata": {
        "id": "1HEUfn_-L-0m",
        "colab_type": "code",
        "outputId": "7f6ca216-f46f-47f0-f38a-d0a5d7af43ad",
        "colab": {
          "base_uri": "https://localhost:8080/",
          "height": 187
        }
      },
      "source": [
        "# To determine which version you're using:\n",
        "!pip show tensorflow"
      ],
      "execution_count": 0,
      "outputs": [
        {
          "output_type": "stream",
          "text": [
            "Name: tensorflow\n",
            "Version: 2.2.0rc4\n",
            "Summary: TensorFlow is an open source machine learning framework for everyone.\n",
            "Home-page: https://www.tensorflow.org/\n",
            "Author: Google Inc.\n",
            "Author-email: packages@tensorflow.org\n",
            "License: Apache 2.0\n",
            "Location: /usr/local/lib/python3.6/dist-packages\n",
            "Requires: gast, numpy, protobuf, absl-py, h5py, tensorboard, tensorflow-estimator, wrapt, six, scipy, keras-preprocessing, termcolor, grpcio, astunparse, google-pasta, opt-einsum, wheel\n",
            "Required-by: fancyimpute\n"
          ],
          "name": "stdout"
        }
      ]
    },
    {
      "cell_type": "code",
      "metadata": {
        "id": "OfAQia0yMIw7",
        "colab_type": "code",
        "colab": {}
      },
      "source": [
        "import tensorflow as tf\n",
        "from tensorflow.python.keras.preprocessing.image import ImageDataGenerator, array_to_img, img_to_array, load_img, save_img\n",
        "\n",
        "import imageio\n",
        "import imgaug as ia\n",
        "\n",
        "import os\n",
        "import numpy as np\n",
        "from numpy import expand_dims\n",
        "\n",
        "import matplotlib.pyplot as plt\n",
        "from keras.models import Sequential\n",
        "from keras.models import load_model\n",
        "from keras.layers import Conv2D\n",
        "from keras.layers import MaxPooling2D\n",
        "from keras.layers import Flatten\n",
        "from keras.layers import Dense\n",
        "from keras.preprocessing.image import ImageDataGenerator\n",
        "from IPython.display import display \n",
        "from PIL import Image\n",
        "import h5py\n",
        "%matplotlib inline"
      ],
      "execution_count": 0,
      "outputs": []
    },
    {
      "cell_type": "code",
      "metadata": {
        "id": "igv1oxYaMLii",
        "colab_type": "code",
        "outputId": "8af85a80-2717-4d2a-c416-a31afdc46e0d",
        "colab": {
          "base_uri": "https://localhost:8080/",
          "height": 731
        }
      },
      "source": [
        "resolver = tf.distribute.cluster_resolver.TPUClusterResolver(tpu='grpc://' + os.environ['COLAB_TPU_ADDR'])\n",
        "tf.config.experimental_connect_to_cluster(resolver)\n",
        "# This is the TPU initialization code that has to be at the beginning.\n",
        "tf.tpu.experimental.initialize_tpu_system(resolver)\n",
        "strategy = tf.distribute.experimental.TPUStrategy(resolver)"
      ],
      "execution_count": 0,
      "outputs": [
        {
          "output_type": "stream",
          "text": [
            "WARNING:tensorflow:TPU system grpc://10.50.8.138:8470 has already been initialized. Reinitializing the TPU can cause previously created variables on TPU to be lost.\n"
          ],
          "name": "stdout"
        },
        {
          "output_type": "stream",
          "text": [
            "WARNING:tensorflow:TPU system grpc://10.50.8.138:8470 has already been initialized. Reinitializing the TPU can cause previously created variables on TPU to be lost.\n"
          ],
          "name": "stderr"
        },
        {
          "output_type": "stream",
          "text": [
            "INFO:tensorflow:Initializing the TPU system: grpc://10.50.8.138:8470\n"
          ],
          "name": "stdout"
        },
        {
          "output_type": "stream",
          "text": [
            "INFO:tensorflow:Initializing the TPU system: grpc://10.50.8.138:8470\n"
          ],
          "name": "stderr"
        },
        {
          "output_type": "stream",
          "text": [
            "INFO:tensorflow:Clearing out eager caches\n"
          ],
          "name": "stdout"
        },
        {
          "output_type": "stream",
          "text": [
            "INFO:tensorflow:Clearing out eager caches\n"
          ],
          "name": "stderr"
        },
        {
          "output_type": "stream",
          "text": [
            "INFO:tensorflow:Finished initializing TPU system.\n"
          ],
          "name": "stdout"
        },
        {
          "output_type": "stream",
          "text": [
            "INFO:tensorflow:Finished initializing TPU system.\n"
          ],
          "name": "stderr"
        },
        {
          "output_type": "stream",
          "text": [
            "INFO:tensorflow:Found TPU system:\n"
          ],
          "name": "stdout"
        },
        {
          "output_type": "stream",
          "text": [
            "INFO:tensorflow:Found TPU system:\n"
          ],
          "name": "stderr"
        },
        {
          "output_type": "stream",
          "text": [
            "INFO:tensorflow:*** Num TPU Cores: 8\n"
          ],
          "name": "stdout"
        },
        {
          "output_type": "stream",
          "text": [
            "INFO:tensorflow:*** Num TPU Cores: 8\n"
          ],
          "name": "stderr"
        },
        {
          "output_type": "stream",
          "text": [
            "INFO:tensorflow:*** Num TPU Workers: 1\n"
          ],
          "name": "stdout"
        },
        {
          "output_type": "stream",
          "text": [
            "INFO:tensorflow:*** Num TPU Workers: 1\n"
          ],
          "name": "stderr"
        },
        {
          "output_type": "stream",
          "text": [
            "INFO:tensorflow:*** Num TPU Cores Per Worker: 8\n"
          ],
          "name": "stdout"
        },
        {
          "output_type": "stream",
          "text": [
            "INFO:tensorflow:*** Num TPU Cores Per Worker: 8\n"
          ],
          "name": "stderr"
        },
        {
          "output_type": "stream",
          "text": [
            "INFO:tensorflow:*** Available Device: _DeviceAttributes(/job:localhost/replica:0/task:0/device:CPU:0, CPU, 0, 0)\n"
          ],
          "name": "stdout"
        },
        {
          "output_type": "stream",
          "text": [
            "INFO:tensorflow:*** Available Device: _DeviceAttributes(/job:localhost/replica:0/task:0/device:CPU:0, CPU, 0, 0)\n"
          ],
          "name": "stderr"
        },
        {
          "output_type": "stream",
          "text": [
            "INFO:tensorflow:*** Available Device: _DeviceAttributes(/job:localhost/replica:0/task:0/device:XLA_CPU:0, XLA_CPU, 0, 0)\n"
          ],
          "name": "stdout"
        },
        {
          "output_type": "stream",
          "text": [
            "INFO:tensorflow:*** Available Device: _DeviceAttributes(/job:localhost/replica:0/task:0/device:XLA_CPU:0, XLA_CPU, 0, 0)\n"
          ],
          "name": "stderr"
        },
        {
          "output_type": "stream",
          "text": [
            "INFO:tensorflow:*** Available Device: _DeviceAttributes(/job:worker/replica:0/task:0/device:CPU:0, CPU, 0, 0)\n"
          ],
          "name": "stdout"
        },
        {
          "output_type": "stream",
          "text": [
            "INFO:tensorflow:*** Available Device: _DeviceAttributes(/job:worker/replica:0/task:0/device:CPU:0, CPU, 0, 0)\n"
          ],
          "name": "stderr"
        },
        {
          "output_type": "stream",
          "text": [
            "INFO:tensorflow:*** Available Device: _DeviceAttributes(/job:worker/replica:0/task:0/device:TPU:0, TPU, 0, 0)\n"
          ],
          "name": "stdout"
        },
        {
          "output_type": "stream",
          "text": [
            "INFO:tensorflow:*** Available Device: _DeviceAttributes(/job:worker/replica:0/task:0/device:TPU:0, TPU, 0, 0)\n"
          ],
          "name": "stderr"
        },
        {
          "output_type": "stream",
          "text": [
            "INFO:tensorflow:*** Available Device: _DeviceAttributes(/job:worker/replica:0/task:0/device:TPU:1, TPU, 0, 0)\n"
          ],
          "name": "stdout"
        },
        {
          "output_type": "stream",
          "text": [
            "INFO:tensorflow:*** Available Device: _DeviceAttributes(/job:worker/replica:0/task:0/device:TPU:1, TPU, 0, 0)\n"
          ],
          "name": "stderr"
        },
        {
          "output_type": "stream",
          "text": [
            "INFO:tensorflow:*** Available Device: _DeviceAttributes(/job:worker/replica:0/task:0/device:TPU:2, TPU, 0, 0)\n"
          ],
          "name": "stdout"
        },
        {
          "output_type": "stream",
          "text": [
            "INFO:tensorflow:*** Available Device: _DeviceAttributes(/job:worker/replica:0/task:0/device:TPU:2, TPU, 0, 0)\n"
          ],
          "name": "stderr"
        },
        {
          "output_type": "stream",
          "text": [
            "INFO:tensorflow:*** Available Device: _DeviceAttributes(/job:worker/replica:0/task:0/device:TPU:3, TPU, 0, 0)\n"
          ],
          "name": "stdout"
        },
        {
          "output_type": "stream",
          "text": [
            "INFO:tensorflow:*** Available Device: _DeviceAttributes(/job:worker/replica:0/task:0/device:TPU:3, TPU, 0, 0)\n"
          ],
          "name": "stderr"
        },
        {
          "output_type": "stream",
          "text": [
            "INFO:tensorflow:*** Available Device: _DeviceAttributes(/job:worker/replica:0/task:0/device:TPU:4, TPU, 0, 0)\n"
          ],
          "name": "stdout"
        },
        {
          "output_type": "stream",
          "text": [
            "INFO:tensorflow:*** Available Device: _DeviceAttributes(/job:worker/replica:0/task:0/device:TPU:4, TPU, 0, 0)\n"
          ],
          "name": "stderr"
        },
        {
          "output_type": "stream",
          "text": [
            "INFO:tensorflow:*** Available Device: _DeviceAttributes(/job:worker/replica:0/task:0/device:TPU:5, TPU, 0, 0)\n"
          ],
          "name": "stdout"
        },
        {
          "output_type": "stream",
          "text": [
            "INFO:tensorflow:*** Available Device: _DeviceAttributes(/job:worker/replica:0/task:0/device:TPU:5, TPU, 0, 0)\n"
          ],
          "name": "stderr"
        },
        {
          "output_type": "stream",
          "text": [
            "INFO:tensorflow:*** Available Device: _DeviceAttributes(/job:worker/replica:0/task:0/device:TPU:6, TPU, 0, 0)\n"
          ],
          "name": "stdout"
        },
        {
          "output_type": "stream",
          "text": [
            "INFO:tensorflow:*** Available Device: _DeviceAttributes(/job:worker/replica:0/task:0/device:TPU:6, TPU, 0, 0)\n"
          ],
          "name": "stderr"
        },
        {
          "output_type": "stream",
          "text": [
            "INFO:tensorflow:*** Available Device: _DeviceAttributes(/job:worker/replica:0/task:0/device:TPU:7, TPU, 0, 0)\n"
          ],
          "name": "stdout"
        },
        {
          "output_type": "stream",
          "text": [
            "INFO:tensorflow:*** Available Device: _DeviceAttributes(/job:worker/replica:0/task:0/device:TPU:7, TPU, 0, 0)\n"
          ],
          "name": "stderr"
        },
        {
          "output_type": "stream",
          "text": [
            "INFO:tensorflow:*** Available Device: _DeviceAttributes(/job:worker/replica:0/task:0/device:TPU_SYSTEM:0, TPU_SYSTEM, 0, 0)\n"
          ],
          "name": "stdout"
        },
        {
          "output_type": "stream",
          "text": [
            "INFO:tensorflow:*** Available Device: _DeviceAttributes(/job:worker/replica:0/task:0/device:TPU_SYSTEM:0, TPU_SYSTEM, 0, 0)\n"
          ],
          "name": "stderr"
        },
        {
          "output_type": "stream",
          "text": [
            "INFO:tensorflow:*** Available Device: _DeviceAttributes(/job:worker/replica:0/task:0/device:XLA_CPU:0, XLA_CPU, 0, 0)\n"
          ],
          "name": "stdout"
        },
        {
          "output_type": "stream",
          "text": [
            "INFO:tensorflow:*** Available Device: _DeviceAttributes(/job:worker/replica:0/task:0/device:XLA_CPU:0, XLA_CPU, 0, 0)\n"
          ],
          "name": "stderr"
        }
      ]
    },
    {
      "cell_type": "code",
      "metadata": {
        "id": "yRA3J5kjMO00",
        "colab_type": "code",
        "colab": {}
      },
      "source": [
        "train_source = image_dir + 'Split/Train/'\n",
        "test_source = image_dir + 'Split/Test/'"
      ],
      "execution_count": 0,
      "outputs": []
    },
    {
      "cell_type": "code",
      "metadata": {
        "id": "UtL6rQ0kM16P",
        "colab_type": "code",
        "colab": {}
      },
      "source": [
        "# Data Augmentation\n",
        "train_dataGenerator = ImageDataGenerator(rescale=1./255, \n",
        "                                   shear_range=0.2, \n",
        "                                   zoom_range=0.2, \n",
        "                                   rotation_range=20, \n",
        "                                   width_shift_range=0.2,\n",
        "                                   height_shift_range=0.2, \n",
        "                                   horizontal_flip=True, \n",
        "                                   fill_mode='nearest', \n",
        "                                   validation_split=0.2) # set validation split"
      ],
      "execution_count": 0,
      "outputs": []
    },
    {
      "cell_type": "code",
      "metadata": {
        "id": "oCg1Ji05NBrE",
        "colab_type": "code",
        "colab": {}
      },
      "source": [
        "test_dataGenerator = ImageDataGenerator(rescale = 1./255)"
      ],
      "execution_count": 0,
      "outputs": []
    },
    {
      "cell_type": "code",
      "metadata": {
        "id": "nOnG79qJNRVL",
        "colab_type": "code",
        "colab": {}
      },
      "source": [
        "# Default Values\n",
        "\n",
        "#img_height = 150\n",
        "#img_width = 150\n",
        "batch_size = 32"
      ],
      "execution_count": 0,
      "outputs": []
    },
    {
      "cell_type": "code",
      "metadata": {
        "id": "epNk_uNRNW5-",
        "colab_type": "code",
        "outputId": "ff711791-7f04-4515-c290-68c31ef38c51",
        "colab": {
          "base_uri": "https://localhost:8080/",
          "height": 51
        }
      },
      "source": [
        "train_set = train_dataGenerator.flow_from_directory(train_source,\n",
        "                                                 target_size = (64, 64),\n",
        "                                                 batch_size = batch_size,\n",
        "                                                 class_mode = 'categorical')\n",
        "\n",
        "test_set = test_dataGenerator.flow_from_directory(test_source,\n",
        "                                            target_size = (64, 64),\n",
        "                                            batch_size = batch_size,\n",
        "                                            class_mode = 'categorical')"
      ],
      "execution_count": 0,
      "outputs": [
        {
          "output_type": "stream",
          "text": [
            "Found 3037 images belonging to 9 classes.\n",
            "Found 949 images belonging to 9 classes.\n"
          ],
          "name": "stdout"
        }
      ]
    },
    {
      "cell_type": "code",
      "metadata": {
        "id": "Sj8AMKbQPMPd",
        "colab_type": "code",
        "colab": {}
      },
      "source": [
        "# Writing a CNN Model\n",
        "\n",
        "image_classifier = Sequential()\n",
        "image_classifier.add(Conv2D(32, (3, 3), input_shape = (64, 64, 3), activation = 'relu'))\n",
        "image_classifier.add(MaxPooling2D(pool_size = (2, 2)))\n",
        "image_classifier.add(Conv2D(32, (3, 3), activation = 'relu'))\n",
        "image_classifier.add(MaxPooling2D(pool_size = (2, 2)))\n",
        "image_classifier.add(Flatten())\n",
        "image_classifier.add(Dense(units = 128, activation = 'relu'))\n",
        "image_classifier.add(Dense(units = 9, activation = 'softmax')) # number of classes\n",
        "image_classifier.compile(optimizer = 'adam', loss = 'categorical_crossentropy', metrics = ['accuracy'])"
      ],
      "execution_count": 0,
      "outputs": []
    },
    {
      "cell_type": "code",
      "metadata": {
        "id": "q9euSx9tWPfn",
        "colab_type": "code",
        "outputId": "aaae2c0b-37f5-412d-a1b4-e7eebc9d86d6",
        "colab": {
          "base_uri": "https://localhost:8080/",
          "height": 751
        }
      },
      "source": [
        "image_classifier.fit_generator(train_set,\n",
        "                               steps_per_epoch = 3037,\n",
        "                               epochs = 25,\n",
        "                               validation_data = test_set,\n",
        "                               validation_steps = 949) \n"
      ],
      "execution_count": 0,
      "outputs": [
        {
          "output_type": "stream",
          "text": [
            "Epoch 1/25\n",
            "  47/3037 [..............................] - ETA: 6:29:25 - loss: 2.1600 - accuracy: 0.1672"
          ],
          "name": "stdout"
        },
        {
          "output_type": "stream",
          "text": [
            "/usr/local/lib/python3.6/dist-packages/keras/utils/data_utils.py:616: UserWarning: The input 55 could not be retrieved. It could be because a worker has died.\n",
            "  UserWarning)\n"
          ],
          "name": "stderr"
        },
        {
          "output_type": "stream",
          "text": [
            "3037/3037 [==============================] - 1517s 500ms/step - loss: 1.4715 - accuracy: 0.4960 - val_loss: 0.7009 - val_accuracy: 0.6585\n",
            "Epoch 2/25\n",
            "3037/3037 [==============================] - 591s 195ms/step - loss: 1.0544 - accuracy: 0.6472 - val_loss: 0.8383 - val_accuracy: 0.6736\n",
            "Epoch 3/25\n",
            "3037/3037 [==============================] - 610s 201ms/step - loss: 0.8869 - accuracy: 0.7031 - val_loss: 1.2415 - val_accuracy: 0.7131\n",
            "Epoch 4/25\n",
            "3037/3037 [==============================] - 633s 209ms/step - loss: 0.7863 - accuracy: 0.7345 - val_loss: 1.4412 - val_accuracy: 0.7084\n",
            "Epoch 5/25\n",
            "3037/3037 [==============================] - 656s 216ms/step - loss: 0.7150 - accuracy: 0.7599 - val_loss: 1.4971 - val_accuracy: 0.7090\n",
            "Epoch 6/25\n",
            "3037/3037 [==============================] - 634s 209ms/step - loss: 0.6607 - accuracy: 0.7783 - val_loss: 0.9026 - val_accuracy: 0.6975\n",
            "Epoch 7/25\n",
            "3037/3037 [==============================] - 622s 205ms/step - loss: 0.6139 - accuracy: 0.7928 - val_loss: 1.9144 - val_accuracy: 0.6873\n",
            "Epoch 8/25\n",
            "3037/3037 [==============================] - 609s 200ms/step - loss: 0.5737 - accuracy: 0.8079 - val_loss: 0.5445 - val_accuracy: 0.7008\n",
            "Epoch 9/25\n",
            "3037/3037 [==============================] - 612s 202ms/step - loss: 0.5504 - accuracy: 0.8154 - val_loss: 0.6352 - val_accuracy: 0.6869\n",
            "Epoch 10/25\n",
            "3037/3037 [==============================] - 606s 199ms/step - loss: 0.5212 - accuracy: 0.8243 - val_loss: 1.0191 - val_accuracy: 0.6937\n",
            "Epoch 11/25\n",
            "3037/3037 [==============================] - 619s 204ms/step - loss: 0.4924 - accuracy: 0.8344 - val_loss: 0.9689 - val_accuracy: 0.7039\n",
            "Epoch 12/25\n",
            "3037/3037 [==============================] - 617s 203ms/step - loss: 0.4775 - accuracy: 0.8404 - val_loss: 1.1208 - val_accuracy: 0.7118\n",
            "Epoch 13/25\n",
            "3037/3037 [==============================] - 666s 219ms/step - loss: 0.4588 - accuracy: 0.8452 - val_loss: 0.9178 - val_accuracy: 0.6889\n",
            "Epoch 14/25\n",
            "3037/3037 [==============================] - 655s 216ms/step - loss: 0.4449 - accuracy: 0.8508 - val_loss: 1.6270 - val_accuracy: 0.6751\n",
            "Epoch 15/25\n",
            "3037/3037 [==============================] - 648s 213ms/step - loss: 0.4338 - accuracy: 0.8542 - val_loss: 1.3723 - val_accuracy: 0.6881\n",
            "Epoch 16/25\n",
            "3037/3037 [==============================] - 612s 201ms/step - loss: 0.4220 - accuracy: 0.8572 - val_loss: 1.6401 - val_accuracy: 0.6984\n",
            "Epoch 17/25\n",
            "3037/3037 [==============================] - 612s 202ms/step - loss: 0.4076 - accuracy: 0.8629 - val_loss: 1.2206 - val_accuracy: 0.6811\n",
            "Epoch 18/25\n",
            "3037/3037 [==============================] - 657s 216ms/step - loss: 0.3957 - accuracy: 0.8680 - val_loss: 2.6182 - val_accuracy: 0.6875\n",
            "Epoch 19/25\n",
            "3037/3037 [==============================] - 613s 202ms/step - loss: 0.3881 - accuracy: 0.8686 - val_loss: 1.4711 - val_accuracy: 0.6767\n",
            "Epoch 20/25\n",
            " 329/3037 [==>...........................] - ETA: 6:47 - loss: 0.3721 - accuracy: 0.8745Buffered data was truncated after reaching the output size limit."
          ],
          "name": "stdout"
        }
      ]
    },
    {
      "cell_type": "code",
      "metadata": {
        "id": "KbN_sJsXW7ns",
        "colab_type": "code",
        "outputId": "e49ebabf-af6e-40c6-c40c-6d831d0de475",
        "colab": {
          "base_uri": "https://localhost:8080/",
          "height": 34
        }
      },
      "source": [
        "# Part 3 - Making new predictions\n",
        "import numpy as np\n",
        "from keras.preprocessing import image\n",
        "\n",
        "sampleImage = test_source+'Planks/Planks55-0.jpg'\n",
        "# load the image\n",
        "img = load_img(sampleImage, target_size = (64,64))\n",
        "data = img_to_array(img)\n",
        "test_image = np.expand_dims(data, axis = 0)\n",
        "result = image_classifier.predict(test_image)\n",
        "print(train_set.class_indices)\n"
      ],
      "execution_count": 0,
      "outputs": [
        {
          "output_type": "stream",
          "text": [
            "{'DownwardFacingDog': 0, 'LowLunge': 1, 'Planks': 2, 'ReversePlanks': 3, 'SeatedForwardBend': 4, 'SidePlanks': 5, 'TreePose': 6, 'TrianglePose': 7, 'WarriorPose': 8}\n"
          ],
          "name": "stdout"
        }
      ]
    },
    {
      "cell_type": "code",
      "metadata": {
        "id": "N-UVOAK-igVl",
        "colab_type": "code",
        "outputId": "9237b22a-4af7-440d-8c35-4fcdea690a42",
        "colab": {
          "base_uri": "https://localhost:8080/",
          "height": 51
        }
      },
      "source": [
        "if result[0][0] == 1:\n",
        "\tprediction = 'downwardFacingDog' #predictions in array are in alphabetical order\n",
        "elif result[0][1] == 1:\n",
        "\tprediction = 'LowLung'\n",
        "elif result[0][2] == 1:\n",
        "\tprediction = 'planks'\n",
        "elif result[0][3] == 1:\n",
        "\tprediction = 'reversePlank'\n",
        "elif result[0][4] == 1:\n",
        "\tprediction = 'seatdForwardBend'\n",
        "elif result[0][5] == 1:\n",
        "\tprediction = 'sidePlanks'\n",
        "elif result[0][6] == 1:\n",
        "\tprediction = 'treePose'\n",
        "elif result[0][7] == 1:\n",
        "\tprediction = 'trianglepose'\n",
        "elif result[0][8] == 1:\n",
        "\tprediction = 'warrior'\n",
        "\n",
        "\n",
        "print(result)\n",
        "print(prediction)"
      ],
      "execution_count": 0,
      "outputs": [
        {
          "output_type": "stream",
          "text": [
            "[[0. 0. 0. 0. 0. 1. 0. 0. 0.]]\n",
            "sidePlanks\n"
          ],
          "name": "stdout"
        }
      ]
    },
    {
      "cell_type": "code",
      "metadata": {
        "id": "RtxKg4F7KVfk",
        "colab_type": "code",
        "colab": {}
      },
      "source": [
        ""
      ],
      "execution_count": 0,
      "outputs": []
    }
  ]
}